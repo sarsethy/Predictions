{
 "cells": [
  {
   "cell_type": "code",
   "execution_count": 1,
   "metadata": {},
   "outputs": [],
   "source": [
    "import pandas as pd\n",
    "import numpy as np\n",
    "import seaborn as sns\n",
    "from matplotlib import pyplot as plt\n",
    "from sklearn.model_selection import train_test_split\n",
    "from sklearn.linear_model import LinearRegression\n",
    "from sklearn.neighbors import KNeighborsRegressor\n",
    "from sklearn import metrics\n",
    "from sklearn.metrics import mean_absolute_error as mae\n",
    "from sklearn.metrics import mean_squared_error as mse"
   ]
  },
  {
   "cell_type": "code",
   "execution_count": 2,
   "metadata": {},
   "outputs": [],
   "source": [
    "%matplotlib inline"
   ]
  },
  {
   "cell_type": "code",
   "execution_count": 3,
   "metadata": {},
   "outputs": [],
   "source": [
    "ny_taxi_data=pd.read_csv('nyc_taxi_trip_duration.csv')"
   ]
  },
  {
   "cell_type": "code",
   "execution_count": 4,
   "metadata": {},
   "outputs": [
    {
     "data": {
      "text/html": [
       "<div>\n",
       "<style scoped>\n",
       "    .dataframe tbody tr th:only-of-type {\n",
       "        vertical-align: middle;\n",
       "    }\n",
       "\n",
       "    .dataframe tbody tr th {\n",
       "        vertical-align: top;\n",
       "    }\n",
       "\n",
       "    .dataframe thead th {\n",
       "        text-align: right;\n",
       "    }\n",
       "</style>\n",
       "<table border=\"1\" class=\"dataframe\">\n",
       "  <thead>\n",
       "    <tr style=\"text-align: right;\">\n",
       "      <th></th>\n",
       "      <th>id</th>\n",
       "      <th>vendor_id</th>\n",
       "      <th>pickup_datetime</th>\n",
       "      <th>dropoff_datetime</th>\n",
       "      <th>passenger_count</th>\n",
       "      <th>pickup_longitude</th>\n",
       "      <th>pickup_latitude</th>\n",
       "      <th>dropoff_longitude</th>\n",
       "      <th>dropoff_latitude</th>\n",
       "      <th>store_and_fwd_flag</th>\n",
       "      <th>trip_duration</th>\n",
       "    </tr>\n",
       "  </thead>\n",
       "  <tbody>\n",
       "    <tr>\n",
       "      <th>0</th>\n",
       "      <td>id1080784</td>\n",
       "      <td>2</td>\n",
       "      <td>2016-02-29 16:40:21</td>\n",
       "      <td>2016-02-29 16:47:01</td>\n",
       "      <td>1</td>\n",
       "      <td>-73.953918</td>\n",
       "      <td>40.778873</td>\n",
       "      <td>-73.963875</td>\n",
       "      <td>40.771164</td>\n",
       "      <td>N</td>\n",
       "      <td>400</td>\n",
       "    </tr>\n",
       "    <tr>\n",
       "      <th>1</th>\n",
       "      <td>id0889885</td>\n",
       "      <td>1</td>\n",
       "      <td>2016-03-11 23:35:37</td>\n",
       "      <td>2016-03-11 23:53:57</td>\n",
       "      <td>2</td>\n",
       "      <td>-73.988312</td>\n",
       "      <td>40.731743</td>\n",
       "      <td>-73.994751</td>\n",
       "      <td>40.694931</td>\n",
       "      <td>N</td>\n",
       "      <td>1100</td>\n",
       "    </tr>\n",
       "    <tr>\n",
       "      <th>2</th>\n",
       "      <td>id0857912</td>\n",
       "      <td>2</td>\n",
       "      <td>2016-02-21 17:59:33</td>\n",
       "      <td>2016-02-21 18:26:48</td>\n",
       "      <td>2</td>\n",
       "      <td>-73.997314</td>\n",
       "      <td>40.721458</td>\n",
       "      <td>-73.948029</td>\n",
       "      <td>40.774918</td>\n",
       "      <td>N</td>\n",
       "      <td>1635</td>\n",
       "    </tr>\n",
       "    <tr>\n",
       "      <th>3</th>\n",
       "      <td>id3744273</td>\n",
       "      <td>2</td>\n",
       "      <td>2016-01-05 09:44:31</td>\n",
       "      <td>2016-01-05 10:03:32</td>\n",
       "      <td>6</td>\n",
       "      <td>-73.961670</td>\n",
       "      <td>40.759720</td>\n",
       "      <td>-73.956779</td>\n",
       "      <td>40.780628</td>\n",
       "      <td>N</td>\n",
       "      <td>1141</td>\n",
       "    </tr>\n",
       "    <tr>\n",
       "      <th>4</th>\n",
       "      <td>id0232939</td>\n",
       "      <td>1</td>\n",
       "      <td>2016-02-17 06:42:23</td>\n",
       "      <td>2016-02-17 06:56:31</td>\n",
       "      <td>1</td>\n",
       "      <td>-74.017120</td>\n",
       "      <td>40.708469</td>\n",
       "      <td>-73.988182</td>\n",
       "      <td>40.740631</td>\n",
       "      <td>N</td>\n",
       "      <td>848</td>\n",
       "    </tr>\n",
       "  </tbody>\n",
       "</table>\n",
       "</div>"
      ],
      "text/plain": [
       "          id  vendor_id      pickup_datetime     dropoff_datetime  \\\n",
       "0  id1080784          2  2016-02-29 16:40:21  2016-02-29 16:47:01   \n",
       "1  id0889885          1  2016-03-11 23:35:37  2016-03-11 23:53:57   \n",
       "2  id0857912          2  2016-02-21 17:59:33  2016-02-21 18:26:48   \n",
       "3  id3744273          2  2016-01-05 09:44:31  2016-01-05 10:03:32   \n",
       "4  id0232939          1  2016-02-17 06:42:23  2016-02-17 06:56:31   \n",
       "\n",
       "   passenger_count  pickup_longitude  pickup_latitude  dropoff_longitude  \\\n",
       "0                1        -73.953918        40.778873         -73.963875   \n",
       "1                2        -73.988312        40.731743         -73.994751   \n",
       "2                2        -73.997314        40.721458         -73.948029   \n",
       "3                6        -73.961670        40.759720         -73.956779   \n",
       "4                1        -74.017120        40.708469         -73.988182   \n",
       "\n",
       "   dropoff_latitude store_and_fwd_flag  trip_duration  \n",
       "0         40.771164                  N            400  \n",
       "1         40.694931                  N           1100  \n",
       "2         40.774918                  N           1635  \n",
       "3         40.780628                  N           1141  \n",
       "4         40.740631                  N            848  "
      ]
     },
     "execution_count": 4,
     "metadata": {},
     "output_type": "execute_result"
    }
   ],
   "source": [
    "ny_taxi_data.head(5)"
   ]
  },
  {
   "cell_type": "code",
   "execution_count": 5,
   "metadata": {},
   "outputs": [
    {
     "name": "stdout",
     "output_type": "stream",
     "text": [
      "<class 'pandas.core.frame.DataFrame'>\n",
      "RangeIndex: 729322 entries, 0 to 729321\n",
      "Data columns (total 11 columns):\n",
      " #   Column              Non-Null Count   Dtype  \n",
      "---  ------              --------------   -----  \n",
      " 0   id                  729322 non-null  object \n",
      " 1   vendor_id           729322 non-null  int64  \n",
      " 2   pickup_datetime     729322 non-null  object \n",
      " 3   dropoff_datetime    729322 non-null  object \n",
      " 4   passenger_count     729322 non-null  int64  \n",
      " 5   pickup_longitude    729322 non-null  float64\n",
      " 6   pickup_latitude     729322 non-null  float64\n",
      " 7   dropoff_longitude   729322 non-null  float64\n",
      " 8   dropoff_latitude    729322 non-null  float64\n",
      " 9   store_and_fwd_flag  729322 non-null  object \n",
      " 10  trip_duration       729322 non-null  int64  \n",
      "dtypes: float64(4), int64(3), object(4)\n",
      "memory usage: 61.2+ MB\n"
     ]
    }
   ],
   "source": [
    "ny_taxi_data.info()"
   ]
  },
  {
   "cell_type": "code",
   "execution_count": 6,
   "metadata": {},
   "outputs": [
    {
     "data": {
      "text/plain": [
       "(729322, 11)"
      ]
     },
     "execution_count": 6,
     "metadata": {},
     "output_type": "execute_result"
    }
   ],
   "source": [
    "ny_taxi_data.shape"
   ]
  },
  {
   "cell_type": "code",
   "execution_count": 7,
   "metadata": {},
   "outputs": [
    {
     "data": {
      "text/plain": [
       "id                    0\n",
       "vendor_id             0\n",
       "pickup_datetime       0\n",
       "dropoff_datetime      0\n",
       "passenger_count       0\n",
       "pickup_longitude      0\n",
       "pickup_latitude       0\n",
       "dropoff_longitude     0\n",
       "dropoff_latitude      0\n",
       "store_and_fwd_flag    0\n",
       "trip_duration         0\n",
       "dtype: int64"
      ]
     },
     "execution_count": 7,
     "metadata": {},
     "output_type": "execute_result"
    }
   ],
   "source": [
    "ny_taxi_data.isnull().sum()"
   ]
  },
  {
   "cell_type": "code",
   "execution_count": 8,
   "metadata": {},
   "outputs": [
    {
     "data": {
      "text/plain": [
       "id                    0\n",
       "vendor_id             0\n",
       "pickup_datetime       0\n",
       "dropoff_datetime      0\n",
       "passenger_count       0\n",
       "pickup_longitude      0\n",
       "pickup_latitude       0\n",
       "dropoff_longitude     0\n",
       "dropoff_latitude      0\n",
       "store_and_fwd_flag    0\n",
       "trip_duration         0\n",
       "dtype: int64"
      ]
     },
     "execution_count": 8,
     "metadata": {},
     "output_type": "execute_result"
    }
   ],
   "source": [
    "ny_taxi_data.isna().sum()"
   ]
  },
  {
   "cell_type": "code",
   "execution_count": 9,
   "metadata": {},
   "outputs": [],
   "source": [
    "#seggregating the date  according the datatype\n",
    "ny_taxi_data['pickup_datetime']=pd.to_datetime(ny_taxi_data['pickup_datetime'])\n",
    "ny_taxi_data['dropoff_datetime']=pd.to_datetime(ny_taxi_data['dropoff_datetime'])"
   ]
  },
  {
   "cell_type": "code",
   "execution_count": 10,
   "metadata": {},
   "outputs": [],
   "source": [
    "#Derive month, day and hour from pickup and drop datetime to find out more insignt at granual level \n",
    "ny_taxi_data['pickup_month']=ny_taxi_data['pickup_datetime'].dt.month\n",
    "ny_taxi_data['pickup_days']=ny_taxi_data['pickup_datetime'].dt.weekday\n",
    "ny_taxi_data['pickup_hours']=ny_taxi_data['pickup_datetime'].dt.hour\n",
    "ny_taxi_data['dropoff_month']=ny_taxi_data['dropoff_datetime'].dt.month\n",
    "ny_taxi_data['dropoff_days']=ny_taxi_data['dropoff_datetime'].dt.weekday\n",
    "ny_taxi_data['dropoff_hours']=ny_taxi_data['dropoff_datetime'].dt.hour"
   ]
  },
  {
   "cell_type": "code",
   "execution_count": 11,
   "metadata": {},
   "outputs": [
    {
     "data": {
      "text/html": [
       "<div>\n",
       "<style scoped>\n",
       "    .dataframe tbody tr th:only-of-type {\n",
       "        vertical-align: middle;\n",
       "    }\n",
       "\n",
       "    .dataframe tbody tr th {\n",
       "        vertical-align: top;\n",
       "    }\n",
       "\n",
       "    .dataframe thead th {\n",
       "        text-align: right;\n",
       "    }\n",
       "</style>\n",
       "<table border=\"1\" class=\"dataframe\">\n",
       "  <thead>\n",
       "    <tr style=\"text-align: right;\">\n",
       "      <th></th>\n",
       "      <th>vendor_id</th>\n",
       "      <th>passenger_count</th>\n",
       "      <th>pickup_longitude</th>\n",
       "      <th>pickup_latitude</th>\n",
       "      <th>dropoff_longitude</th>\n",
       "      <th>dropoff_latitude</th>\n",
       "      <th>trip_duration</th>\n",
       "      <th>pickup_month</th>\n",
       "      <th>pickup_days</th>\n",
       "      <th>pickup_hours</th>\n",
       "      <th>dropoff_month</th>\n",
       "      <th>dropoff_days</th>\n",
       "      <th>dropoff_hours</th>\n",
       "    </tr>\n",
       "  </thead>\n",
       "  <tbody>\n",
       "    <tr>\n",
       "      <th>count</th>\n",
       "      <td>729322.000000</td>\n",
       "      <td>729322.000000</td>\n",
       "      <td>729322.000000</td>\n",
       "      <td>729322.000000</td>\n",
       "      <td>729322.000000</td>\n",
       "      <td>729322.000000</td>\n",
       "      <td>7.293220e+05</td>\n",
       "      <td>729322.000000</td>\n",
       "      <td>729322.000000</td>\n",
       "      <td>729322.000000</td>\n",
       "      <td>729322.000000</td>\n",
       "      <td>729322.000000</td>\n",
       "      <td>729322.00000</td>\n",
       "    </tr>\n",
       "    <tr>\n",
       "      <th>mean</th>\n",
       "      <td>1.535403</td>\n",
       "      <td>1.662055</td>\n",
       "      <td>-73.973513</td>\n",
       "      <td>40.750919</td>\n",
       "      <td>-73.973422</td>\n",
       "      <td>40.751775</td>\n",
       "      <td>9.522291e+02</td>\n",
       "      <td>3.518410</td>\n",
       "      <td>3.049081</td>\n",
       "      <td>13.611698</td>\n",
       "      <td>3.518764</td>\n",
       "      <td>3.053015</td>\n",
       "      <td>13.60616</td>\n",
       "    </tr>\n",
       "    <tr>\n",
       "      <th>std</th>\n",
       "      <td>0.498745</td>\n",
       "      <td>1.312446</td>\n",
       "      <td>0.069754</td>\n",
       "      <td>0.033594</td>\n",
       "      <td>0.069588</td>\n",
       "      <td>0.036037</td>\n",
       "      <td>3.864626e+03</td>\n",
       "      <td>1.680661</td>\n",
       "      <td>1.954470</td>\n",
       "      <td>6.402853</td>\n",
       "      <td>1.680815</td>\n",
       "      <td>1.956866</td>\n",
       "      <td>6.48637</td>\n",
       "    </tr>\n",
       "    <tr>\n",
       "      <th>min</th>\n",
       "      <td>1.000000</td>\n",
       "      <td>0.000000</td>\n",
       "      <td>-121.933342</td>\n",
       "      <td>34.712234</td>\n",
       "      <td>-121.933304</td>\n",
       "      <td>32.181141</td>\n",
       "      <td>1.000000e+00</td>\n",
       "      <td>1.000000</td>\n",
       "      <td>0.000000</td>\n",
       "      <td>0.000000</td>\n",
       "      <td>1.000000</td>\n",
       "      <td>0.000000</td>\n",
       "      <td>0.00000</td>\n",
       "    </tr>\n",
       "    <tr>\n",
       "      <th>25%</th>\n",
       "      <td>1.000000</td>\n",
       "      <td>1.000000</td>\n",
       "      <td>-73.991859</td>\n",
       "      <td>40.737335</td>\n",
       "      <td>-73.991318</td>\n",
       "      <td>40.735931</td>\n",
       "      <td>3.970000e+02</td>\n",
       "      <td>2.000000</td>\n",
       "      <td>1.000000</td>\n",
       "      <td>9.000000</td>\n",
       "      <td>2.000000</td>\n",
       "      <td>1.000000</td>\n",
       "      <td>9.00000</td>\n",
       "    </tr>\n",
       "    <tr>\n",
       "      <th>50%</th>\n",
       "      <td>2.000000</td>\n",
       "      <td>1.000000</td>\n",
       "      <td>-73.981758</td>\n",
       "      <td>40.754070</td>\n",
       "      <td>-73.979759</td>\n",
       "      <td>40.754509</td>\n",
       "      <td>6.630000e+02</td>\n",
       "      <td>4.000000</td>\n",
       "      <td>3.000000</td>\n",
       "      <td>14.000000</td>\n",
       "      <td>4.000000</td>\n",
       "      <td>3.000000</td>\n",
       "      <td>14.00000</td>\n",
       "    </tr>\n",
       "    <tr>\n",
       "      <th>75%</th>\n",
       "      <td>2.000000</td>\n",
       "      <td>2.000000</td>\n",
       "      <td>-73.967361</td>\n",
       "      <td>40.768314</td>\n",
       "      <td>-73.963036</td>\n",
       "      <td>40.769741</td>\n",
       "      <td>1.075000e+03</td>\n",
       "      <td>5.000000</td>\n",
       "      <td>5.000000</td>\n",
       "      <td>19.000000</td>\n",
       "      <td>5.000000</td>\n",
       "      <td>5.000000</td>\n",
       "      <td>19.00000</td>\n",
       "    </tr>\n",
       "    <tr>\n",
       "      <th>max</th>\n",
       "      <td>2.000000</td>\n",
       "      <td>9.000000</td>\n",
       "      <td>-65.897385</td>\n",
       "      <td>51.881084</td>\n",
       "      <td>-65.897385</td>\n",
       "      <td>43.921028</td>\n",
       "      <td>1.939736e+06</td>\n",
       "      <td>6.000000</td>\n",
       "      <td>6.000000</td>\n",
       "      <td>23.000000</td>\n",
       "      <td>7.000000</td>\n",
       "      <td>6.000000</td>\n",
       "      <td>23.00000</td>\n",
       "    </tr>\n",
       "  </tbody>\n",
       "</table>\n",
       "</div>"
      ],
      "text/plain": [
       "           vendor_id  passenger_count  pickup_longitude  pickup_latitude  \\\n",
       "count  729322.000000    729322.000000     729322.000000    729322.000000   \n",
       "mean        1.535403         1.662055        -73.973513        40.750919   \n",
       "std         0.498745         1.312446          0.069754         0.033594   \n",
       "min         1.000000         0.000000       -121.933342        34.712234   \n",
       "25%         1.000000         1.000000        -73.991859        40.737335   \n",
       "50%         2.000000         1.000000        -73.981758        40.754070   \n",
       "75%         2.000000         2.000000        -73.967361        40.768314   \n",
       "max         2.000000         9.000000        -65.897385        51.881084   \n",
       "\n",
       "       dropoff_longitude  dropoff_latitude  trip_duration   pickup_month  \\\n",
       "count      729322.000000     729322.000000   7.293220e+05  729322.000000   \n",
       "mean          -73.973422         40.751775   9.522291e+02       3.518410   \n",
       "std             0.069588          0.036037   3.864626e+03       1.680661   \n",
       "min          -121.933304         32.181141   1.000000e+00       1.000000   \n",
       "25%           -73.991318         40.735931   3.970000e+02       2.000000   \n",
       "50%           -73.979759         40.754509   6.630000e+02       4.000000   \n",
       "75%           -73.963036         40.769741   1.075000e+03       5.000000   \n",
       "max           -65.897385         43.921028   1.939736e+06       6.000000   \n",
       "\n",
       "         pickup_days   pickup_hours  dropoff_month   dropoff_days  \\\n",
       "count  729322.000000  729322.000000  729322.000000  729322.000000   \n",
       "mean        3.049081      13.611698       3.518764       3.053015   \n",
       "std         1.954470       6.402853       1.680815       1.956866   \n",
       "min         0.000000       0.000000       1.000000       0.000000   \n",
       "25%         1.000000       9.000000       2.000000       1.000000   \n",
       "50%         3.000000      14.000000       4.000000       3.000000   \n",
       "75%         5.000000      19.000000       5.000000       5.000000   \n",
       "max         6.000000      23.000000       7.000000       6.000000   \n",
       "\n",
       "       dropoff_hours  \n",
       "count   729322.00000  \n",
       "mean        13.60616  \n",
       "std          6.48637  \n",
       "min          0.00000  \n",
       "25%          9.00000  \n",
       "50%         14.00000  \n",
       "75%         19.00000  \n",
       "max         23.00000  "
      ]
     },
     "execution_count": 11,
     "metadata": {},
     "output_type": "execute_result"
    }
   ],
   "source": [
    "ny_taxi_data.describe()"
   ]
  },
  {
   "cell_type": "code",
   "execution_count": 12,
   "metadata": {},
   "outputs": [],
   "source": [
    "#Lets try to find out mean and standard deviation of trip duration and keep trip durration on to 2nd deviation(95% accuracy)\n",
    "\n",
    "mean=ny_taxi_data['trip_duration'].mean()\n",
    "std_dev=ny_taxi_data['trip_duration'].std()\n",
    "ny_taxi_data=ny_taxi_data[ny_taxi_data['trip_duration']<= mean + 2*std_dev]\n",
    "ny_taxi_data=ny_taxi_data[ny_taxi_data['trip_duration']>= mean - 2*std_dev]\n"
   ]
  },
  {
   "cell_type": "code",
   "execution_count": 13,
   "metadata": {},
   "outputs": [
    {
     "data": {
      "text/plain": [
       "(728274, 17)"
      ]
     },
     "execution_count": 13,
     "metadata": {},
     "output_type": "execute_result"
    }
   ],
   "source": [
    "ny_taxi_data.shape"
   ]
  },
  {
   "cell_type": "markdown",
   "metadata": {},
   "source": [
    "Now lets keep the analysis restrict to NYC city and hence we need to control our pick up and drop off longitute and latitue with \n",
    "the NY geographic .\n",
    "NY gepgraphic limits to below longitute and latitude\n",
    " - longitue = (-74.03, -73.75)\n",
    " - latitute= (40.63, 40.85)\n"
   ]
  },
  {
   "cell_type": "code",
   "execution_count": 14,
   "metadata": {},
   "outputs": [],
   "source": [
    "ny_taxi_data=ny_taxi_data[ny_taxi_data['pickup_longitude'] <= -73.75]\n",
    "ny_taxi_data=ny_taxi_data[ny_taxi_data['pickup_longitude'] >= -74.05]\n",
    "ny_taxi_data=ny_taxi_data[ny_taxi_data['pickup_latitude']<= 40.85]\n",
    "ny_taxi_data=ny_taxi_data[ny_taxi_data['pickup_latitude'] >= 40.63]\n",
    "ny_taxi_data = ny_taxi_data[ny_taxi_data['dropoff_longitude'] <= -73.75]\n",
    "ny_taxi_data = ny_taxi_data[ny_taxi_data['dropoff_longitude'] >= -74.03]\n",
    "ny_taxi_data = ny_taxi_data[ny_taxi_data['dropoff_latitude'] <= 40.85]\n",
    "ny_taxi_data = ny_taxi_data[ny_taxi_data['dropoff_latitude'] >= 40.63]"
   ]
  },
  {
   "cell_type": "code",
   "execution_count": 15,
   "metadata": {},
   "outputs": [
    {
     "name": "stdout",
     "output_type": "stream",
     "text": [
      "Requirement already satisfied: haversine in /Users/728389/opt/anaconda3/lib/python3.8/site-packages (2.6.0)\r\n"
     ]
    }
   ],
   "source": [
    "!pip install haversine"
   ]
  },
  {
   "cell_type": "code",
   "execution_count": 16,
   "metadata": {},
   "outputs": [],
   "source": [
    "import haversine\n",
    "from haversine import haversine"
   ]
  },
  {
   "cell_type": "code",
   "execution_count": 17,
   "metadata": {},
   "outputs": [],
   "source": [
    "#Now calculate the distance between pickup and dropoff co-ordinates using harersine formula\n",
    "def calc_dist(ny_taxi_data):\n",
    "    pickup = (ny_taxi_data['pickup_latitude'],ny_taxi_data['pickup_longitude'])\n",
    "    dropoff = (ny_taxi_data['dropoff_latitude'],ny_taxi_data['pickup_longitude'])\n",
    "    return haversine(pickup,dropoff)\n",
    "if 'distance' not in ny_taxi_data.columns:\n",
    "    ny_taxi_data['distance'] = ny_taxi_data.apply(lambda x: calc_dist(x), axis = 1)"
   ]
  },
  {
   "cell_type": "code",
   "execution_count": 18,
   "metadata": {},
   "outputs": [],
   "source": [
    "#find out the speed\n",
    "\n",
    "if 'speed' not in ny_taxi_data.columns:\n",
    "    ny_taxi_data['speed']=(ny_taxi_data.distance/(ny_taxi_data.trip_duration/3600))"
   ]
  },
  {
   "cell_type": "code",
   "execution_count": 19,
   "metadata": {},
   "outputs": [
    {
     "data": {
      "text/html": [
       "<div>\n",
       "<style scoped>\n",
       "    .dataframe tbody tr th:only-of-type {\n",
       "        vertical-align: middle;\n",
       "    }\n",
       "\n",
       "    .dataframe tbody tr th {\n",
       "        vertical-align: top;\n",
       "    }\n",
       "\n",
       "    .dataframe thead th {\n",
       "        text-align: right;\n",
       "    }\n",
       "</style>\n",
       "<table border=\"1\" class=\"dataframe\">\n",
       "  <thead>\n",
       "    <tr style=\"text-align: right;\">\n",
       "      <th></th>\n",
       "      <th>id</th>\n",
       "      <th>vendor_id</th>\n",
       "      <th>pickup_datetime</th>\n",
       "      <th>dropoff_datetime</th>\n",
       "      <th>passenger_count</th>\n",
       "      <th>pickup_longitude</th>\n",
       "      <th>pickup_latitude</th>\n",
       "      <th>dropoff_longitude</th>\n",
       "      <th>dropoff_latitude</th>\n",
       "      <th>store_and_fwd_flag</th>\n",
       "      <th>trip_duration</th>\n",
       "      <th>pickup_month</th>\n",
       "      <th>pickup_days</th>\n",
       "      <th>pickup_hours</th>\n",
       "      <th>dropoff_month</th>\n",
       "      <th>dropoff_days</th>\n",
       "      <th>dropoff_hours</th>\n",
       "      <th>distance</th>\n",
       "      <th>speed</th>\n",
       "    </tr>\n",
       "  </thead>\n",
       "  <tbody>\n",
       "    <tr>\n",
       "      <th>0</th>\n",
       "      <td>id1080784</td>\n",
       "      <td>2</td>\n",
       "      <td>2016-02-29 16:40:21</td>\n",
       "      <td>2016-02-29 16:47:01</td>\n",
       "      <td>1</td>\n",
       "      <td>-73.953918</td>\n",
       "      <td>40.778873</td>\n",
       "      <td>-73.963875</td>\n",
       "      <td>40.771164</td>\n",
       "      <td>N</td>\n",
       "      <td>400</td>\n",
       "      <td>2</td>\n",
       "      <td>0</td>\n",
       "      <td>16</td>\n",
       "      <td>2</td>\n",
       "      <td>0</td>\n",
       "      <td>16</td>\n",
       "      <td>0.857259</td>\n",
       "      <td>7.715329</td>\n",
       "    </tr>\n",
       "    <tr>\n",
       "      <th>1</th>\n",
       "      <td>id0889885</td>\n",
       "      <td>1</td>\n",
       "      <td>2016-03-11 23:35:37</td>\n",
       "      <td>2016-03-11 23:53:57</td>\n",
       "      <td>2</td>\n",
       "      <td>-73.988312</td>\n",
       "      <td>40.731743</td>\n",
       "      <td>-73.994751</td>\n",
       "      <td>40.694931</td>\n",
       "      <td>N</td>\n",
       "      <td>1100</td>\n",
       "      <td>3</td>\n",
       "      <td>4</td>\n",
       "      <td>23</td>\n",
       "      <td>3</td>\n",
       "      <td>4</td>\n",
       "      <td>23</td>\n",
       "      <td>4.093294</td>\n",
       "      <td>13.396236</td>\n",
       "    </tr>\n",
       "    <tr>\n",
       "      <th>2</th>\n",
       "      <td>id0857912</td>\n",
       "      <td>2</td>\n",
       "      <td>2016-02-21 17:59:33</td>\n",
       "      <td>2016-02-21 18:26:48</td>\n",
       "      <td>2</td>\n",
       "      <td>-73.997314</td>\n",
       "      <td>40.721458</td>\n",
       "      <td>-73.948029</td>\n",
       "      <td>40.774918</td>\n",
       "      <td>N</td>\n",
       "      <td>1635</td>\n",
       "      <td>2</td>\n",
       "      <td>6</td>\n",
       "      <td>17</td>\n",
       "      <td>2</td>\n",
       "      <td>6</td>\n",
       "      <td>18</td>\n",
       "      <td>5.944396</td>\n",
       "      <td>13.088579</td>\n",
       "    </tr>\n",
       "    <tr>\n",
       "      <th>3</th>\n",
       "      <td>id3744273</td>\n",
       "      <td>2</td>\n",
       "      <td>2016-01-05 09:44:31</td>\n",
       "      <td>2016-01-05 10:03:32</td>\n",
       "      <td>6</td>\n",
       "      <td>-73.961670</td>\n",
       "      <td>40.759720</td>\n",
       "      <td>-73.956779</td>\n",
       "      <td>40.780628</td>\n",
       "      <td>N</td>\n",
       "      <td>1141</td>\n",
       "      <td>1</td>\n",
       "      <td>1</td>\n",
       "      <td>9</td>\n",
       "      <td>1</td>\n",
       "      <td>1</td>\n",
       "      <td>10</td>\n",
       "      <td>2.324906</td>\n",
       "      <td>7.335375</td>\n",
       "    </tr>\n",
       "    <tr>\n",
       "      <th>4</th>\n",
       "      <td>id0232939</td>\n",
       "      <td>1</td>\n",
       "      <td>2016-02-17 06:42:23</td>\n",
       "      <td>2016-02-17 06:56:31</td>\n",
       "      <td>1</td>\n",
       "      <td>-74.017120</td>\n",
       "      <td>40.708469</td>\n",
       "      <td>-73.988182</td>\n",
       "      <td>40.740631</td>\n",
       "      <td>N</td>\n",
       "      <td>848</td>\n",
       "      <td>2</td>\n",
       "      <td>2</td>\n",
       "      <td>6</td>\n",
       "      <td>2</td>\n",
       "      <td>2</td>\n",
       "      <td>6</td>\n",
       "      <td>3.576224</td>\n",
       "      <td>15.182084</td>\n",
       "    </tr>\n",
       "  </tbody>\n",
       "</table>\n",
       "</div>"
      ],
      "text/plain": [
       "          id  vendor_id     pickup_datetime    dropoff_datetime  \\\n",
       "0  id1080784          2 2016-02-29 16:40:21 2016-02-29 16:47:01   \n",
       "1  id0889885          1 2016-03-11 23:35:37 2016-03-11 23:53:57   \n",
       "2  id0857912          2 2016-02-21 17:59:33 2016-02-21 18:26:48   \n",
       "3  id3744273          2 2016-01-05 09:44:31 2016-01-05 10:03:32   \n",
       "4  id0232939          1 2016-02-17 06:42:23 2016-02-17 06:56:31   \n",
       "\n",
       "   passenger_count  pickup_longitude  pickup_latitude  dropoff_longitude  \\\n",
       "0                1        -73.953918        40.778873         -73.963875   \n",
       "1                2        -73.988312        40.731743         -73.994751   \n",
       "2                2        -73.997314        40.721458         -73.948029   \n",
       "3                6        -73.961670        40.759720         -73.956779   \n",
       "4                1        -74.017120        40.708469         -73.988182   \n",
       "\n",
       "   dropoff_latitude store_and_fwd_flag  trip_duration  pickup_month  \\\n",
       "0         40.771164                  N            400             2   \n",
       "1         40.694931                  N           1100             3   \n",
       "2         40.774918                  N           1635             2   \n",
       "3         40.780628                  N           1141             1   \n",
       "4         40.740631                  N            848             2   \n",
       "\n",
       "   pickup_days  pickup_hours  dropoff_month  dropoff_days  dropoff_hours  \\\n",
       "0            0            16              2             0             16   \n",
       "1            4            23              3             4             23   \n",
       "2            6            17              2             6             18   \n",
       "3            1             9              1             1             10   \n",
       "4            2             6              2             2              6   \n",
       "\n",
       "   distance      speed  \n",
       "0  0.857259   7.715329  \n",
       "1  4.093294  13.396236  \n",
       "2  5.944396  13.088579  \n",
       "3  2.324906   7.335375  \n",
       "4  3.576224  15.182084  "
      ]
     },
     "execution_count": 19,
     "metadata": {},
     "output_type": "execute_result"
    }
   ],
   "source": [
    "ny_taxi_data.head(5)"
   ]
  },
  {
   "cell_type": "markdown",
   "metadata": {},
   "source": [
    "visulaisation of data after doing some basic clean on all the attibutes"
   ]
  },
  {
   "cell_type": "code",
   "execution_count": 20,
   "metadata": {},
   "outputs": [
    {
     "data": {
      "image/png": "[encoded data removed]",
      "text/plain": [
       "<Figure size 432x288 with 1 Axes>"
      ]
     },
     "metadata": {
      "needs_background": "light"
     },
     "output_type": "display_data"
    }
   ],
   "source": [
    "plt.hist(ny_taxi_data['trip_duration'].values,bins=100)\n",
    "plt.xlabel('trip_duration')\n",
    "plt.ylabel('no. of trips')\n",
    "plt.show()"
   ]
  },
  {
   "cell_type": "code",
   "execution_count": 21,
   "metadata": {},
   "outputs": [
    {
     "data": {
      "image/png": "[encoded data removed]",
      "text/plain": [
       "<Figure size 432x288 with 1 Axes>"
      ]
     },
     "metadata": {
      "needs_background": "light"
     },
     "output_type": "display_data"
    },
    {
     "name": "stderr",
     "output_type": "stream",
     "text": [
      "/Users/728389/opt/anaconda3/lib/python3.8/site-packages/seaborn/distributions.py:2551: FutureWarning: `distplot` is a deprecated function and will be removed in a future version. Please adapt your code to use either `displot` (a figure-level function with similar flexibility) or `histplot` (an axes-level function for histograms).\n",
      "  warnings.warn(msg, FutureWarning)\n"
     ]
    },
    {
     "data": {
      "text/plain": [
       "<AxesSubplot:xlabel='log_trip_duration', ylabel='Density'>"
      ]
     },
     "execution_count": 21,
     "metadata": {},
     "output_type": "execute_result"
    },
    {
     "data": {
      "image/png": "[encoded data removed]",
      "text/plain": [
       "<Figure size 432x288 with 1 Axes>"
      ]
     },
     "metadata": {
      "needs_background": "light"
     },
     "output_type": "display_data"
    }
   ],
   "source": [
    "ny_taxi_data['log_trip_duration'] = np.log(ny_taxi_data['trip_duration'].values )\n",
    "plt.hist(ny_taxi_data['log_trip_duration'].values, bins=50)\n",
    "plt.xlabel('trip_duration')\n",
    "plt.ylabel('based on no of trip')\n",
    "plt.show()\n",
    "sns.distplot(ny_taxi_data[\"log_trip_duration\"], bins =100)"
   ]
  },
  {
   "cell_type": "code",
   "execution_count": 23,
   "metadata": {},
   "outputs": [
    {
     "data": {
      "image/png": "[encoded data removed]",
      "text/plain": [
       "<Figure size 432x288 with 1 Axes>"
      ]
     },
     "metadata": {
      "needs_background": "light"
     },
     "output_type": "display_data"
    }
   ],
   "source": [
    "#box plot for outliers\n",
    "sns.boxplot(data=ny_taxi_data['trip_duration'], orient='horizontal')\n",
    "plt.show()"
   ]
  },
  {
   "cell_type": "code",
   "execution_count": 24,
   "metadata": {},
   "outputs": [],
   "source": [
    "#Removing outliers above 2 hours trips \n",
    "ny_taxi_data=ny_taxi_data[ny_taxi_data.trip_duration>=60] \n",
    "ny_taxi_data=ny_taxi_data[ny_taxi_data.trip_duration<=7200] "
   ]
  },
  {
   "cell_type": "markdown",
   "metadata": {},
   "source": [
    "There are nothing much difference between pick and drop off month\n",
    "lets visualise day wise "
   ]
  },
  {
   "cell_type": "code",
   "execution_count": 25,
   "metadata": {},
   "outputs": [
    {
     "data": {
      "image/png": "[encoded data removed]",
      "text/plain": [
       "<Figure size 1080x288 with 2 Axes>"
      ]
     },
     "metadata": {
      "needs_background": "light"
     },
     "output_type": "display_data"
    }
   ],
   "source": [
    "figure,ax=plt.subplots(nrows=1,ncols=2,figsize=(15,4))\n",
    "sns.countplot(x='pickup_hours',data=ny_taxi_data,ax=ax[0])\n",
    "ax[0].set_title('The distribution of number of pickups each hour')\n",
    "sns.countplot(x='dropoff_hours',data=ny_taxi_data,ax=ax[1])\n",
    "ax[1].set_title('The distribution of number of dropoffs each hour')\n",
    "plt.tight_layout()"
   ]
  },
  {
   "cell_type": "markdown",
   "metadata": {},
   "source": [
    "Based on above graph majority of trips are happening from 6 PM to 10 PM and then gradually decreasing , lets do some featue\n",
    "extraction from this hrs data"
   ]
  },
  {
   "cell_type": "code",
   "execution_count": 26,
   "metadata": {},
   "outputs": [],
   "source": [
    "# Creating a new col rush hrs for pick up and dropp off\n",
    "def rush_hours(hours):\n",
    "    if hours.item()>=7 and hours.item()<=9:\n",
    "         return 'rush_hours_morning(7-9)'\n",
    "    elif hours.item()>=9 and hours.item()<=16:\n",
    "         return 'normal_hours(9-16)'\n",
    "    elif hours.item()>=16 and hours.item()<=22:\n",
    "         return 'rush_hours_evening(16-22)'\n",
    "    else:\n",
    "        return 'late_night_hrs'\n",
    "    \n",
    "ny_taxi_data['traffic_during_pickup']=ny_taxi_data[['pickup_hours']].apply(rush_hours, axis=1)\n",
    "ny_taxi_data['traffic_during_dropoff']=ny_taxi_data[['dropoff_hours']].apply(rush_hours, axis=1)"
   ]
  },
  {
   "cell_type": "code",
   "execution_count": 27,
   "metadata": {},
   "outputs": [
    {
     "data": {
      "text/html": [
       "<div>\n",
       "<style scoped>\n",
       "    .dataframe tbody tr th:only-of-type {\n",
       "        vertical-align: middle;\n",
       "    }\n",
       "\n",
       "    .dataframe tbody tr th {\n",
       "        vertical-align: top;\n",
       "    }\n",
       "\n",
       "    .dataframe thead th {\n",
       "        text-align: right;\n",
       "    }\n",
       "</style>\n",
       "<table border=\"1\" class=\"dataframe\">\n",
       "  <thead>\n",
       "    <tr style=\"text-align: right;\">\n",
       "      <th></th>\n",
       "      <th>id</th>\n",
       "      <th>vendor_id</th>\n",
       "      <th>pickup_datetime</th>\n",
       "      <th>dropoff_datetime</th>\n",
       "      <th>passenger_count</th>\n",
       "      <th>pickup_longitude</th>\n",
       "      <th>pickup_latitude</th>\n",
       "      <th>dropoff_longitude</th>\n",
       "      <th>dropoff_latitude</th>\n",
       "      <th>store_and_fwd_flag</th>\n",
       "      <th>...</th>\n",
       "      <th>pickup_days</th>\n",
       "      <th>pickup_hours</th>\n",
       "      <th>dropoff_month</th>\n",
       "      <th>dropoff_days</th>\n",
       "      <th>dropoff_hours</th>\n",
       "      <th>distance</th>\n",
       "      <th>speed</th>\n",
       "      <th>log_trip_duration</th>\n",
       "      <th>traffic_during_pickup</th>\n",
       "      <th>traffic_during_dropoff</th>\n",
       "    </tr>\n",
       "  </thead>\n",
       "  <tbody>\n",
       "    <tr>\n",
       "      <th>0</th>\n",
       "      <td>id1080784</td>\n",
       "      <td>2</td>\n",
       "      <td>2016-02-29 16:40:21</td>\n",
       "      <td>2016-02-29 16:47:01</td>\n",
       "      <td>1</td>\n",
       "      <td>-73.953918</td>\n",
       "      <td>40.778873</td>\n",
       "      <td>-73.963875</td>\n",
       "      <td>40.771164</td>\n",
       "      <td>N</td>\n",
       "      <td>...</td>\n",
       "      <td>0</td>\n",
       "      <td>16</td>\n",
       "      <td>2</td>\n",
       "      <td>0</td>\n",
       "      <td>16</td>\n",
       "      <td>0.857259</td>\n",
       "      <td>7.715329</td>\n",
       "      <td>5.991465</td>\n",
       "      <td>normal_hours(9-16)</td>\n",
       "      <td>normal_hours(9-16)</td>\n",
       "    </tr>\n",
       "    <tr>\n",
       "      <th>1</th>\n",
       "      <td>id0889885</td>\n",
       "      <td>1</td>\n",
       "      <td>2016-03-11 23:35:37</td>\n",
       "      <td>2016-03-11 23:53:57</td>\n",
       "      <td>2</td>\n",
       "      <td>-73.988312</td>\n",
       "      <td>40.731743</td>\n",
       "      <td>-73.994751</td>\n",
       "      <td>40.694931</td>\n",
       "      <td>N</td>\n",
       "      <td>...</td>\n",
       "      <td>4</td>\n",
       "      <td>23</td>\n",
       "      <td>3</td>\n",
       "      <td>4</td>\n",
       "      <td>23</td>\n",
       "      <td>4.093294</td>\n",
       "      <td>13.396236</td>\n",
       "      <td>7.003065</td>\n",
       "      <td>late_night_hrs</td>\n",
       "      <td>late_night_hrs</td>\n",
       "    </tr>\n",
       "    <tr>\n",
       "      <th>2</th>\n",
       "      <td>id0857912</td>\n",
       "      <td>2</td>\n",
       "      <td>2016-02-21 17:59:33</td>\n",
       "      <td>2016-02-21 18:26:48</td>\n",
       "      <td>2</td>\n",
       "      <td>-73.997314</td>\n",
       "      <td>40.721458</td>\n",
       "      <td>-73.948029</td>\n",
       "      <td>40.774918</td>\n",
       "      <td>N</td>\n",
       "      <td>...</td>\n",
       "      <td>6</td>\n",
       "      <td>17</td>\n",
       "      <td>2</td>\n",
       "      <td>6</td>\n",
       "      <td>18</td>\n",
       "      <td>5.944396</td>\n",
       "      <td>13.088579</td>\n",
       "      <td>7.399398</td>\n",
       "      <td>rush_hours_evening(16-22)</td>\n",
       "      <td>rush_hours_evening(16-22)</td>\n",
       "    </tr>\n",
       "    <tr>\n",
       "      <th>3</th>\n",
       "      <td>id3744273</td>\n",
       "      <td>2</td>\n",
       "      <td>2016-01-05 09:44:31</td>\n",
       "      <td>2016-01-05 10:03:32</td>\n",
       "      <td>6</td>\n",
       "      <td>-73.961670</td>\n",
       "      <td>40.759720</td>\n",
       "      <td>-73.956779</td>\n",
       "      <td>40.780628</td>\n",
       "      <td>N</td>\n",
       "      <td>...</td>\n",
       "      <td>1</td>\n",
       "      <td>9</td>\n",
       "      <td>1</td>\n",
       "      <td>1</td>\n",
       "      <td>10</td>\n",
       "      <td>2.324906</td>\n",
       "      <td>7.335375</td>\n",
       "      <td>7.039660</td>\n",
       "      <td>rush_hours_morning(7-9)</td>\n",
       "      <td>normal_hours(9-16)</td>\n",
       "    </tr>\n",
       "    <tr>\n",
       "      <th>4</th>\n",
       "      <td>id0232939</td>\n",
       "      <td>1</td>\n",
       "      <td>2016-02-17 06:42:23</td>\n",
       "      <td>2016-02-17 06:56:31</td>\n",
       "      <td>1</td>\n",
       "      <td>-74.017120</td>\n",
       "      <td>40.708469</td>\n",
       "      <td>-73.988182</td>\n",
       "      <td>40.740631</td>\n",
       "      <td>N</td>\n",
       "      <td>...</td>\n",
       "      <td>2</td>\n",
       "      <td>6</td>\n",
       "      <td>2</td>\n",
       "      <td>2</td>\n",
       "      <td>6</td>\n",
       "      <td>3.576224</td>\n",
       "      <td>15.182084</td>\n",
       "      <td>6.742881</td>\n",
       "      <td>late_night_hrs</td>\n",
       "      <td>late_night_hrs</td>\n",
       "    </tr>\n",
       "  </tbody>\n",
       "</table>\n",
       "<p>5 rows × 22 columns</p>\n",
       "</div>"
      ],
      "text/plain": [
       "          id  vendor_id     pickup_datetime    dropoff_datetime  \\\n",
       "0  id1080784          2 2016-02-29 16:40:21 2016-02-29 16:47:01   \n",
       "1  id0889885          1 2016-03-11 23:35:37 2016-03-11 23:53:57   \n",
       "2  id0857912          2 2016-02-21 17:59:33 2016-02-21 18:26:48   \n",
       "3  id3744273          2 2016-01-05 09:44:31 2016-01-05 10:03:32   \n",
       "4  id0232939          1 2016-02-17 06:42:23 2016-02-17 06:56:31   \n",
       "\n",
       "   passenger_count  pickup_longitude  pickup_latitude  dropoff_longitude  \\\n",
       "0                1        -73.953918        40.778873         -73.963875   \n",
       "1                2        -73.988312        40.731743         -73.994751   \n",
       "2                2        -73.997314        40.721458         -73.948029   \n",
       "3                6        -73.961670        40.759720         -73.956779   \n",
       "4                1        -74.017120        40.708469         -73.988182   \n",
       "\n",
       "   dropoff_latitude store_and_fwd_flag  ...  pickup_days  pickup_hours  \\\n",
       "0         40.771164                  N  ...            0            16   \n",
       "1         40.694931                  N  ...            4            23   \n",
       "2         40.774918                  N  ...            6            17   \n",
       "3         40.780628                  N  ...            1             9   \n",
       "4         40.740631                  N  ...            2             6   \n",
       "\n",
       "   dropoff_month  dropoff_days  dropoff_hours  distance      speed  \\\n",
       "0              2             0             16  0.857259   7.715329   \n",
       "1              3             4             23  4.093294  13.396236   \n",
       "2              2             6             18  5.944396  13.088579   \n",
       "3              1             1             10  2.324906   7.335375   \n",
       "4              2             2              6  3.576224  15.182084   \n",
       "\n",
       "   log_trip_duration      traffic_during_pickup     traffic_during_dropoff  \n",
       "0           5.991465         normal_hours(9-16)         normal_hours(9-16)  \n",
       "1           7.003065             late_night_hrs             late_night_hrs  \n",
       "2           7.399398  rush_hours_evening(16-22)  rush_hours_evening(16-22)  \n",
       "3           7.039660    rush_hours_morning(7-9)         normal_hours(9-16)  \n",
       "4           6.742881             late_night_hrs             late_night_hrs  \n",
       "\n",
       "[5 rows x 22 columns]"
      ]
     },
     "execution_count": 27,
     "metadata": {},
     "output_type": "execute_result"
    }
   ],
   "source": [
    "ny_taxi_data.head(5)"
   ]
  },
  {
   "cell_type": "code",
   "execution_count": 28,
   "metadata": {},
   "outputs": [],
   "source": [
    "ny_taxi_data['store_and_fwd_flag']=ny_taxi_data['store_and_fwd_flag'].map({'Y':1,'N' :0})"
   ]
  },
  {
   "cell_type": "code",
   "execution_count": 29,
   "metadata": {},
   "outputs": [],
   "source": [
    "#Now apply one hot encoding to all the categorical attributes\n",
    "taxi_vendor = pd.get_dummies(ny_taxi_data['vendor_id'],prefix='vendor',drop_first= True)\n",
    "taxi_passanger=pd.get_dummies(ny_taxi_data['passenger_count'],prefix='passenger',drop_first= True)\n",
    "taxi_store_and_fwd_flag=pd.get_dummies(ny_taxi_data['store_and_fwd_flag'], prefix='store_and_fwd_flag',drop_first= True)\n",
    "taxi_pickup_day=pd.get_dummies(ny_taxi_data['pickup_days'], prefix='pickup_day',drop_first= True)\n",
    "taxi_dropoff_day=pd.get_dummies(ny_taxi_data['dropoff_days'], prefix='dropoff_day',drop_first= True)\n",
    "taxi_pickup_month=pd.get_dummies(ny_taxi_data['pickup_month'], prefix='pickup_month',drop_first= True)\n",
    "taxi_dropoff_month=pd.get_dummies(ny_taxi_data['dropoff_month'], prefix='dropoff_month',drop_first= True)\n",
    "taxi_pickup_traffic_scenerio=pd.get_dummies(ny_taxi_data['traffic_during_pickup'], prefix='pickup_',drop_first= True)\n",
    "taxi_dropoff_traffic_scenerio=pd.get_dummies(ny_taxi_data['traffic_during_dropoff'], prefix='dropoff_',drop_first= True)\n",
    "                          "
   ]
  },
  {
   "cell_type": "code",
   "execution_count": 30,
   "metadata": {},
   "outputs": [],
   "source": [
    "ny_taxi_data_final=pd.concat([ny_taxi_data,taxi_passanger,taxi_vendor,taxi_store_and_fwd_flag,taxi_pickup_day,taxi_dropoff_day,taxi_pickup_month,taxi_dropoff_month,taxi_pickup_traffic_scenerio,taxi_dropoff_traffic_scenerio],axis=1)"
   ]
  },
  {
   "cell_type": "code",
   "execution_count": 31,
   "metadata": {},
   "outputs": [
    {
     "data": {
      "text/html": [
       "<div>\n",
       "<style scoped>\n",
       "    .dataframe tbody tr th:only-of-type {\n",
       "        vertical-align: middle;\n",
       "    }\n",
       "\n",
       "    .dataframe tbody tr th {\n",
       "        vertical-align: top;\n",
       "    }\n",
       "\n",
       "    .dataframe thead th {\n",
       "        text-align: right;\n",
       "    }\n",
       "</style>\n",
       "<table border=\"1\" class=\"dataframe\">\n",
       "  <thead>\n",
       "    <tr style=\"text-align: right;\">\n",
       "      <th></th>\n",
       "      <th>id</th>\n",
       "      <th>vendor_id</th>\n",
       "      <th>pickup_datetime</th>\n",
       "      <th>dropoff_datetime</th>\n",
       "      <th>passenger_count</th>\n",
       "      <th>pickup_longitude</th>\n",
       "      <th>pickup_latitude</th>\n",
       "      <th>dropoff_longitude</th>\n",
       "      <th>dropoff_latitude</th>\n",
       "      <th>store_and_fwd_flag</th>\n",
       "      <th>...</th>\n",
       "      <th>dropoff_month_4</th>\n",
       "      <th>dropoff_month_5</th>\n",
       "      <th>dropoff_month_6</th>\n",
       "      <th>dropoff_month_7</th>\n",
       "      <th>pickup__normal_hours(9-16)</th>\n",
       "      <th>pickup__rush_hours_evening(16-22)</th>\n",
       "      <th>pickup__rush_hours_morning(7-9)</th>\n",
       "      <th>dropoff__normal_hours(9-16)</th>\n",
       "      <th>dropoff__rush_hours_evening(16-22)</th>\n",
       "      <th>dropoff__rush_hours_morning(7-9)</th>\n",
       "    </tr>\n",
       "  </thead>\n",
       "  <tbody>\n",
       "    <tr>\n",
       "      <th>0</th>\n",
       "      <td>id1080784</td>\n",
       "      <td>2</td>\n",
       "      <td>2016-02-29 16:40:21</td>\n",
       "      <td>2016-02-29 16:47:01</td>\n",
       "      <td>1</td>\n",
       "      <td>-73.953918</td>\n",
       "      <td>40.778873</td>\n",
       "      <td>-73.963875</td>\n",
       "      <td>40.771164</td>\n",
       "      <td>0</td>\n",
       "      <td>...</td>\n",
       "      <td>0</td>\n",
       "      <td>0</td>\n",
       "      <td>0</td>\n",
       "      <td>0</td>\n",
       "      <td>1</td>\n",
       "      <td>0</td>\n",
       "      <td>0</td>\n",
       "      <td>1</td>\n",
       "      <td>0</td>\n",
       "      <td>0</td>\n",
       "    </tr>\n",
       "    <tr>\n",
       "      <th>1</th>\n",
       "      <td>id0889885</td>\n",
       "      <td>1</td>\n",
       "      <td>2016-03-11 23:35:37</td>\n",
       "      <td>2016-03-11 23:53:57</td>\n",
       "      <td>2</td>\n",
       "      <td>-73.988312</td>\n",
       "      <td>40.731743</td>\n",
       "      <td>-73.994751</td>\n",
       "      <td>40.694931</td>\n",
       "      <td>0</td>\n",
       "      <td>...</td>\n",
       "      <td>0</td>\n",
       "      <td>0</td>\n",
       "      <td>0</td>\n",
       "      <td>0</td>\n",
       "      <td>0</td>\n",
       "      <td>0</td>\n",
       "      <td>0</td>\n",
       "      <td>0</td>\n",
       "      <td>0</td>\n",
       "      <td>0</td>\n",
       "    </tr>\n",
       "    <tr>\n",
       "      <th>2</th>\n",
       "      <td>id0857912</td>\n",
       "      <td>2</td>\n",
       "      <td>2016-02-21 17:59:33</td>\n",
       "      <td>2016-02-21 18:26:48</td>\n",
       "      <td>2</td>\n",
       "      <td>-73.997314</td>\n",
       "      <td>40.721458</td>\n",
       "      <td>-73.948029</td>\n",
       "      <td>40.774918</td>\n",
       "      <td>0</td>\n",
       "      <td>...</td>\n",
       "      <td>0</td>\n",
       "      <td>0</td>\n",
       "      <td>0</td>\n",
       "      <td>0</td>\n",
       "      <td>0</td>\n",
       "      <td>1</td>\n",
       "      <td>0</td>\n",
       "      <td>0</td>\n",
       "      <td>1</td>\n",
       "      <td>0</td>\n",
       "    </tr>\n",
       "    <tr>\n",
       "      <th>3</th>\n",
       "      <td>id3744273</td>\n",
       "      <td>2</td>\n",
       "      <td>2016-01-05 09:44:31</td>\n",
       "      <td>2016-01-05 10:03:32</td>\n",
       "      <td>6</td>\n",
       "      <td>-73.961670</td>\n",
       "      <td>40.759720</td>\n",
       "      <td>-73.956779</td>\n",
       "      <td>40.780628</td>\n",
       "      <td>0</td>\n",
       "      <td>...</td>\n",
       "      <td>0</td>\n",
       "      <td>0</td>\n",
       "      <td>0</td>\n",
       "      <td>0</td>\n",
       "      <td>0</td>\n",
       "      <td>0</td>\n",
       "      <td>1</td>\n",
       "      <td>1</td>\n",
       "      <td>0</td>\n",
       "      <td>0</td>\n",
       "    </tr>\n",
       "    <tr>\n",
       "      <th>4</th>\n",
       "      <td>id0232939</td>\n",
       "      <td>1</td>\n",
       "      <td>2016-02-17 06:42:23</td>\n",
       "      <td>2016-02-17 06:56:31</td>\n",
       "      <td>1</td>\n",
       "      <td>-74.017120</td>\n",
       "      <td>40.708469</td>\n",
       "      <td>-73.988182</td>\n",
       "      <td>40.740631</td>\n",
       "      <td>0</td>\n",
       "      <td>...</td>\n",
       "      <td>0</td>\n",
       "      <td>0</td>\n",
       "      <td>0</td>\n",
       "      <td>0</td>\n",
       "      <td>0</td>\n",
       "      <td>0</td>\n",
       "      <td>0</td>\n",
       "      <td>0</td>\n",
       "      <td>0</td>\n",
       "      <td>0</td>\n",
       "    </tr>\n",
       "  </tbody>\n",
       "</table>\n",
       "<p>5 rows × 59 columns</p>\n",
       "</div>"
      ],
      "text/plain": [
       "          id  vendor_id     pickup_datetime    dropoff_datetime  \\\n",
       "0  id1080784          2 2016-02-29 16:40:21 2016-02-29 16:47:01   \n",
       "1  id0889885          1 2016-03-11 23:35:37 2016-03-11 23:53:57   \n",
       "2  id0857912          2 2016-02-21 17:59:33 2016-02-21 18:26:48   \n",
       "3  id3744273          2 2016-01-05 09:44:31 2016-01-05 10:03:32   \n",
       "4  id0232939          1 2016-02-17 06:42:23 2016-02-17 06:56:31   \n",
       "\n",
       "   passenger_count  pickup_longitude  pickup_latitude  dropoff_longitude  \\\n",
       "0                1        -73.953918        40.778873         -73.963875   \n",
       "1                2        -73.988312        40.731743         -73.994751   \n",
       "2                2        -73.997314        40.721458         -73.948029   \n",
       "3                6        -73.961670        40.759720         -73.956779   \n",
       "4                1        -74.017120        40.708469         -73.988182   \n",
       "\n",
       "   dropoff_latitude  store_and_fwd_flag  ...  dropoff_month_4  \\\n",
       "0         40.771164                   0  ...                0   \n",
       "1         40.694931                   0  ...                0   \n",
       "2         40.774918                   0  ...                0   \n",
       "3         40.780628                   0  ...                0   \n",
       "4         40.740631                   0  ...                0   \n",
       "\n",
       "   dropoff_month_5  dropoff_month_6  dropoff_month_7  \\\n",
       "0                0                0                0   \n",
       "1                0                0                0   \n",
       "2                0                0                0   \n",
       "3                0                0                0   \n",
       "4                0                0                0   \n",
       "\n",
       "   pickup__normal_hours(9-16)  pickup__rush_hours_evening(16-22)  \\\n",
       "0                           1                                  0   \n",
       "1                           0                                  0   \n",
       "2                           0                                  1   \n",
       "3                           0                                  0   \n",
       "4                           0                                  0   \n",
       "\n",
       "   pickup__rush_hours_morning(7-9)  dropoff__normal_hours(9-16)  \\\n",
       "0                                0                            1   \n",
       "1                                0                            0   \n",
       "2                                0                            0   \n",
       "3                                1                            1   \n",
       "4                                0                            0   \n",
       "\n",
       "   dropoff__rush_hours_evening(16-22)  dropoff__rush_hours_morning(7-9)  \n",
       "0                                   0                                 0  \n",
       "1                                   0                                 0  \n",
       "2                                   1                                 0  \n",
       "3                                   0                                 0  \n",
       "4                                   0                                 0  \n",
       "\n",
       "[5 rows x 59 columns]"
      ]
     },
     "execution_count": 31,
     "metadata": {},
     "output_type": "execute_result"
    }
   ],
   "source": [
    "ny_taxi_data_final.head()"
   ]
  },
  {
   "cell_type": "code",
   "execution_count": 32,
   "metadata": {},
   "outputs": [
    {
     "data": {
      "text/plain": [
       "(714608, 59)"
      ]
     },
     "execution_count": 32,
     "metadata": {},
     "output_type": "execute_result"
    }
   ],
   "source": [
    "ny_taxi_data_final.shape"
   ]
  },
  {
   "cell_type": "code",
   "execution_count": 31,
   "metadata": {},
   "outputs": [
    {
     "data": {
      "text/html": [
       "<div>\n",
       "<style scoped>\n",
       "    .dataframe tbody tr th:only-of-type {\n",
       "        vertical-align: middle;\n",
       "    }\n",
       "\n",
       "    .dataframe tbody tr th {\n",
       "        vertical-align: top;\n",
       "    }\n",
       "\n",
       "    .dataframe thead th {\n",
       "        text-align: right;\n",
       "    }\n",
       "</style>\n",
       "<table border=\"1\" class=\"dataframe\">\n",
       "  <thead>\n",
       "    <tr style=\"text-align: right;\">\n",
       "      <th></th>\n",
       "      <th>vendor_id</th>\n",
       "      <th>passenger_count</th>\n",
       "      <th>pickup_longitude</th>\n",
       "      <th>pickup_latitude</th>\n",
       "      <th>dropoff_longitude</th>\n",
       "      <th>dropoff_latitude</th>\n",
       "      <th>trip_duration</th>\n",
       "      <th>pickup_month</th>\n",
       "      <th>pickup_days</th>\n",
       "      <th>pickup_hours</th>\n",
       "      <th>...</th>\n",
       "      <th>dropoff_month_4</th>\n",
       "      <th>dropoff_month_5</th>\n",
       "      <th>dropoff_month_6</th>\n",
       "      <th>dropoff_month_7</th>\n",
       "      <th>pickup__normal_hours(9-16)</th>\n",
       "      <th>pickup__rush_hours_evening(16-22)</th>\n",
       "      <th>pickup__rush_hours_morning(7-9)</th>\n",
       "      <th>dropoff__normal_hours(9-16)</th>\n",
       "      <th>dropoff__rush_hours_evening(16-22)</th>\n",
       "      <th>dropoff__rush_hours_morning(7-9)</th>\n",
       "    </tr>\n",
       "  </thead>\n",
       "  <tbody>\n",
       "    <tr>\n",
       "      <th>count</th>\n",
       "      <td>714608.000000</td>\n",
       "      <td>714608.000000</td>\n",
       "      <td>714608.000000</td>\n",
       "      <td>714608.000000</td>\n",
       "      <td>714608.000000</td>\n",
       "      <td>714608.000000</td>\n",
       "      <td>714608.000000</td>\n",
       "      <td>714608.000000</td>\n",
       "      <td>714608.000000</td>\n",
       "      <td>714608.000000</td>\n",
       "      <td>...</td>\n",
       "      <td>714608.000000</td>\n",
       "      <td>714608.000000</td>\n",
       "      <td>714608.000000</td>\n",
       "      <td>714608.000000</td>\n",
       "      <td>714608.000000</td>\n",
       "      <td>714608.000000</td>\n",
       "      <td>714608.000000</td>\n",
       "      <td>714608.000000</td>\n",
       "      <td>714608.000000</td>\n",
       "      <td>714608.000000</td>\n",
       "    </tr>\n",
       "    <tr>\n",
       "      <th>mean</th>\n",
       "      <td>1.535384</td>\n",
       "      <td>1.662868</td>\n",
       "      <td>-73.973953</td>\n",
       "      <td>40.751073</td>\n",
       "      <td>-73.973679</td>\n",
       "      <td>40.751700</td>\n",
       "      <td>828.141787</td>\n",
       "      <td>3.517132</td>\n",
       "      <td>3.046675</td>\n",
       "      <td>13.626495</td>\n",
       "      <td>...</td>\n",
       "      <td>0.172174</td>\n",
       "      <td>0.170118</td>\n",
       "      <td>0.160864</td>\n",
       "      <td>0.000062</td>\n",
       "      <td>0.334749</td>\n",
       "      <td>0.348001</td>\n",
       "      <td>0.131545</td>\n",
       "      <td>0.334592</td>\n",
       "      <td>0.347644</td>\n",
       "      <td>0.125407</td>\n",
       "    </tr>\n",
       "    <tr>\n",
       "      <th>std</th>\n",
       "      <td>0.498747</td>\n",
       "      <td>1.313266</td>\n",
       "      <td>0.036902</td>\n",
       "      <td>0.027302</td>\n",
       "      <td>0.032322</td>\n",
       "      <td>0.029562</td>\n",
       "      <td>638.252706</td>\n",
       "      <td>1.680768</td>\n",
       "      <td>1.953836</td>\n",
       "      <td>6.380349</td>\n",
       "      <td>...</td>\n",
       "      <td>0.377532</td>\n",
       "      <td>0.375737</td>\n",
       "      <td>0.367406</td>\n",
       "      <td>0.007847</td>\n",
       "      <td>0.471903</td>\n",
       "      <td>0.476337</td>\n",
       "      <td>0.337996</td>\n",
       "      <td>0.471848</td>\n",
       "      <td>0.476223</td>\n",
       "      <td>0.331180</td>\n",
       "    </tr>\n",
       "    <tr>\n",
       "      <th>min</th>\n",
       "      <td>1.000000</td>\n",
       "      <td>0.000000</td>\n",
       "      <td>-74.040245</td>\n",
       "      <td>40.630432</td>\n",
       "      <td>-74.029999</td>\n",
       "      <td>40.630001</td>\n",
       "      <td>60.000000</td>\n",
       "      <td>1.000000</td>\n",
       "      <td>0.000000</td>\n",
       "      <td>0.000000</td>\n",
       "      <td>...</td>\n",
       "      <td>0.000000</td>\n",
       "      <td>0.000000</td>\n",
       "      <td>0.000000</td>\n",
       "      <td>0.000000</td>\n",
       "      <td>0.000000</td>\n",
       "      <td>0.000000</td>\n",
       "      <td>0.000000</td>\n",
       "      <td>0.000000</td>\n",
       "      <td>0.000000</td>\n",
       "      <td>0.000000</td>\n",
       "    </tr>\n",
       "    <tr>\n",
       "      <th>25%</th>\n",
       "      <td>1.000000</td>\n",
       "      <td>1.000000</td>\n",
       "      <td>-73.991882</td>\n",
       "      <td>40.737499</td>\n",
       "      <td>-73.991287</td>\n",
       "      <td>40.736347</td>\n",
       "      <td>398.000000</td>\n",
       "      <td>2.000000</td>\n",
       "      <td>1.000000</td>\n",
       "      <td>9.000000</td>\n",
       "      <td>...</td>\n",
       "      <td>0.000000</td>\n",
       "      <td>0.000000</td>\n",
       "      <td>0.000000</td>\n",
       "      <td>0.000000</td>\n",
       "      <td>0.000000</td>\n",
       "      <td>0.000000</td>\n",
       "      <td>0.000000</td>\n",
       "      <td>0.000000</td>\n",
       "      <td>0.000000</td>\n",
       "      <td>0.000000</td>\n",
       "    </tr>\n",
       "    <tr>\n",
       "      <th>50%</th>\n",
       "      <td>2.000000</td>\n",
       "      <td>1.000000</td>\n",
       "      <td>-73.981804</td>\n",
       "      <td>40.754112</td>\n",
       "      <td>-73.979881</td>\n",
       "      <td>40.754532</td>\n",
       "      <td>659.000000</td>\n",
       "      <td>4.000000</td>\n",
       "      <td>3.000000</td>\n",
       "      <td>14.000000</td>\n",
       "      <td>...</td>\n",
       "      <td>0.000000</td>\n",
       "      <td>0.000000</td>\n",
       "      <td>0.000000</td>\n",
       "      <td>0.000000</td>\n",
       "      <td>0.000000</td>\n",
       "      <td>0.000000</td>\n",
       "      <td>0.000000</td>\n",
       "      <td>0.000000</td>\n",
       "      <td>0.000000</td>\n",
       "      <td>0.000000</td>\n",
       "    </tr>\n",
       "    <tr>\n",
       "      <th>75%</th>\n",
       "      <td>2.000000</td>\n",
       "      <td>2.000000</td>\n",
       "      <td>-73.967628</td>\n",
       "      <td>40.768291</td>\n",
       "      <td>-73.963593</td>\n",
       "      <td>40.769493</td>\n",
       "      <td>1060.000000</td>\n",
       "      <td>5.000000</td>\n",
       "      <td>5.000000</td>\n",
       "      <td>19.000000</td>\n",
       "      <td>...</td>\n",
       "      <td>0.000000</td>\n",
       "      <td>0.000000</td>\n",
       "      <td>0.000000</td>\n",
       "      <td>0.000000</td>\n",
       "      <td>1.000000</td>\n",
       "      <td>1.000000</td>\n",
       "      <td>0.000000</td>\n",
       "      <td>1.000000</td>\n",
       "      <td>1.000000</td>\n",
       "      <td>0.000000</td>\n",
       "    </tr>\n",
       "    <tr>\n",
       "      <th>max</th>\n",
       "      <td>2.000000</td>\n",
       "      <td>6.000000</td>\n",
       "      <td>-73.754105</td>\n",
       "      <td>40.849991</td>\n",
       "      <td>-73.750122</td>\n",
       "      <td>40.849998</td>\n",
       "      <td>7123.000000</td>\n",
       "      <td>6.000000</td>\n",
       "      <td>6.000000</td>\n",
       "      <td>23.000000</td>\n",
       "      <td>...</td>\n",
       "      <td>1.000000</td>\n",
       "      <td>1.000000</td>\n",
       "      <td>1.000000</td>\n",
       "      <td>1.000000</td>\n",
       "      <td>1.000000</td>\n",
       "      <td>1.000000</td>\n",
       "      <td>1.000000</td>\n",
       "      <td>1.000000</td>\n",
       "      <td>1.000000</td>\n",
       "      <td>1.000000</td>\n",
       "    </tr>\n",
       "  </tbody>\n",
       "</table>\n",
       "<p>8 rows × 53 columns</p>\n",
       "</div>"
      ],
      "text/plain": [
       "           vendor_id  passenger_count  pickup_longitude  pickup_latitude  \\\n",
       "count  714608.000000    714608.000000     714608.000000    714608.000000   \n",
       "mean        1.535384         1.662868        -73.973953        40.751073   \n",
       "std         0.498747         1.313266          0.036902         0.027302   \n",
       "min         1.000000         0.000000        -74.040245        40.630432   \n",
       "25%         1.000000         1.000000        -73.991882        40.737499   \n",
       "50%         2.000000         1.000000        -73.981804        40.754112   \n",
       "75%         2.000000         2.000000        -73.967628        40.768291   \n",
       "max         2.000000         6.000000        -73.754105        40.849991   \n",
       "\n",
       "       dropoff_longitude  dropoff_latitude  trip_duration   pickup_month  \\\n",
       "count      714608.000000     714608.000000  714608.000000  714608.000000   \n",
       "mean          -73.973679         40.751700     828.141787       3.517132   \n",
       "std             0.032322          0.029562     638.252706       1.680768   \n",
       "min           -74.029999         40.630001      60.000000       1.000000   \n",
       "25%           -73.991287         40.736347     398.000000       2.000000   \n",
       "50%           -73.979881         40.754532     659.000000       4.000000   \n",
       "75%           -73.963593         40.769493    1060.000000       5.000000   \n",
       "max           -73.750122         40.849998    7123.000000       6.000000   \n",
       "\n",
       "         pickup_days   pickup_hours  ...  dropoff_month_4  dropoff_month_5  \\\n",
       "count  714608.000000  714608.000000  ...    714608.000000    714608.000000   \n",
       "mean        3.046675      13.626495  ...         0.172174         0.170118   \n",
       "std         1.953836       6.380349  ...         0.377532         0.375737   \n",
       "min         0.000000       0.000000  ...         0.000000         0.000000   \n",
       "25%         1.000000       9.000000  ...         0.000000         0.000000   \n",
       "50%         3.000000      14.000000  ...         0.000000         0.000000   \n",
       "75%         5.000000      19.000000  ...         0.000000         0.000000   \n",
       "max         6.000000      23.000000  ...         1.000000         1.000000   \n",
       "\n",
       "       dropoff_month_6  dropoff_month_7  pickup__normal_hours(9-16)  \\\n",
       "count    714608.000000    714608.000000               714608.000000   \n",
       "mean          0.160864         0.000062                    0.334749   \n",
       "std           0.367406         0.007847                    0.471903   \n",
       "min           0.000000         0.000000                    0.000000   \n",
       "25%           0.000000         0.000000                    0.000000   \n",
       "50%           0.000000         0.000000                    0.000000   \n",
       "75%           0.000000         0.000000                    1.000000   \n",
       "max           1.000000         1.000000                    1.000000   \n",
       "\n",
       "       pickup__rush_hours_evening(16-22)  pickup__rush_hours_morning(7-9)  \\\n",
       "count                      714608.000000                    714608.000000   \n",
       "mean                            0.348001                         0.131545   \n",
       "std                             0.476337                         0.337996   \n",
       "min                             0.000000                         0.000000   \n",
       "25%                             0.000000                         0.000000   \n",
       "50%                             0.000000                         0.000000   \n",
       "75%                             1.000000                         0.000000   \n",
       "max                             1.000000                         1.000000   \n",
       "\n",
       "       dropoff__normal_hours(9-16)  dropoff__rush_hours_evening(16-22)  \\\n",
       "count                714608.000000                       714608.000000   \n",
       "mean                      0.334592                            0.347644   \n",
       "std                       0.471848                            0.476223   \n",
       "min                       0.000000                            0.000000   \n",
       "25%                       0.000000                            0.000000   \n",
       "50%                       0.000000                            0.000000   \n",
       "75%                       1.000000                            1.000000   \n",
       "max                       1.000000                            1.000000   \n",
       "\n",
       "       dropoff__rush_hours_morning(7-9)  \n",
       "count                     714608.000000  \n",
       "mean                           0.125407  \n",
       "std                            0.331180  \n",
       "min                            0.000000  \n",
       "25%                            0.000000  \n",
       "50%                            0.000000  \n",
       "75%                            0.000000  \n",
       "max                            1.000000  \n",
       "\n",
       "[8 rows x 53 columns]"
      ]
     },
     "execution_count": 31,
     "metadata": {},
     "output_type": "execute_result"
    }
   ],
   "source": [
    "ny_taxi_data_final.describe()"
   ]
  },
  {
   "cell_type": "code",
   "execution_count": 32,
   "metadata": {},
   "outputs": [
    {
     "data": {
      "text/plain": [
       "Index(['id', 'vendor_id', 'pickup_datetime', 'dropoff_datetime',\n",
       "       'passenger_count', 'pickup_longitude', 'pickup_latitude',\n",
       "       'dropoff_longitude', 'dropoff_latitude', 'store_and_fwd_flag',\n",
       "       'trip_duration', 'pickup_month', 'pickup_days', 'pickup_hours',\n",
       "       'dropoff_month', 'dropoff_days', 'dropoff_hours', 'distance', 'speed',\n",
       "       'log_trip_duration', 'traffic_during_pickup', 'traffic_during_dropoff',\n",
       "       'passenger_1', 'passenger_2', 'passenger_3', 'passenger_4',\n",
       "       'passenger_5', 'passenger_6', 'vendor_2', 'store_and_fwd_flag_Y',\n",
       "       'pickup_day_1', 'pickup_day_2', 'pickup_day_3', 'pickup_day_4',\n",
       "       'pickup_day_5', 'pickup_day_6', 'dropoff_day_1', 'dropoff_day_2',\n",
       "       'dropoff_day_3', 'dropoff_day_4', 'dropoff_day_5', 'dropoff_day_6',\n",
       "       'pickup_month_2', 'pickup_month_3', 'pickup_month_4', 'pickup_month_5',\n",
       "       'pickup_month_6', 'dropoff_month_2', 'dropoff_month_3',\n",
       "       'dropoff_month_4', 'dropoff_month_5', 'dropoff_month_6',\n",
       "       'dropoff_month_7', 'pickup__normal_hours(9-16)',\n",
       "       'pickup__rush_hours_evening(16-22)', 'pickup__rush_hours_morning(7-9)',\n",
       "       'dropoff__normal_hours(9-16)', 'dropoff__rush_hours_evening(16-22)',\n",
       "       'dropoff__rush_hours_morning(7-9)'],\n",
       "      dtype='object')"
      ]
     },
     "execution_count": 32,
     "metadata": {},
     "output_type": "execute_result"
    }
   ],
   "source": [
    "#get all the column naame\n",
    "ny_taxi_data_final.columns"
   ]
  },
  {
   "cell_type": "code",
   "execution_count": 33,
   "metadata": {},
   "outputs": [],
   "source": [
    "ny_taxi_data_final=ny_taxi_data_final.drop(['id','vendor_id','pickup_datetime','store_and_fwd_flag','dropoff_datetime','passenger_count','pickup_longitude', 'pickup_latitude' ,'dropoff_longitude', 'dropoff_latitude','pickup_month','pickup_days','pickup_hours','dropoff_month','dropoff_days','dropoff_hours','log_trip_duration','traffic_during_pickup','traffic_during_dropoff'], axis=1)\n",
    "\n"
   ]
  },
  {
   "cell_type": "code",
   "execution_count": 34,
   "metadata": {},
   "outputs": [
    {
     "data": {
      "text/plain": [
       "(714608, 40)"
      ]
     },
     "execution_count": 34,
     "metadata": {},
     "output_type": "execute_result"
    }
   ],
   "source": [
    "#After dropping the notrequired columns ,shape is \n",
    "ny_taxi_data_final.shape"
   ]
  },
  {
   "cell_type": "code",
   "execution_count": 35,
   "metadata": {},
   "outputs": [],
   "source": [
    "#Segregating variables: Independent and Dependent Variables\n",
    "#Splitting the dateset to train , test to fit into the model\n",
    "#Assigning X and y variables\n",
    "X = ny_taxi_data_final.drop('trip_duration',1)\n",
    "y = ny_taxi_data_final['trip_duration']"
   ]
  },
  {
   "cell_type": "code",
   "execution_count": 36,
   "metadata": {},
   "outputs": [],
   "source": [
    "X_train,X_test,y_train,y_test = train_test_split(X,y,test_size=0.20,random_state=1)"
   ]
  },
  {
   "cell_type": "code",
   "execution_count": 37,
   "metadata": {},
   "outputs": [
    {
     "name": "stdout",
     "output_type": "stream",
     "text": [
      "(571686, 39) (142922, 39) (571686,) (142922,)\n"
     ]
    }
   ],
   "source": [
    "print(X_train.shape, X_test.shape, y_train.shape, y_test.shape)"
   ]
  },
  {
   "cell_type": "markdown",
   "metadata": {},
   "source": [
    "Building perdication modeel"
   ]
  },
  {
   "cell_type": "code",
   "execution_count": 38,
   "metadata": {},
   "outputs": [
    {
     "name": "stdout",
     "output_type": "stream",
     "text": [
      "[ 548.62149726  510.14103024  972.26368308 ... 1016.38963715 1181.07456498\n",
      "  720.17398243]\n"
     ]
    }
   ],
   "source": [
    "# liner Model\n",
    "lR = LinearRegression()\n",
    "lR.fit(X_train,y_train)\n",
    "lR_pred = lR.predict(X_test)\n",
    "print(lR_pred)"
   ]
  },
  {
   "cell_type": "code",
   "execution_count": 39,
   "metadata": {},
   "outputs": [
    {
     "data": {
      "text/plain": [
       "348.43612687545897"
      ]
     },
     "execution_count": 39,
     "metadata": {},
     "output_type": "execute_result"
    }
   ],
   "source": [
    "# Root MSE\n",
    "lR_rmse = np.sqrt(metrics.mean_squared_error(lR_pred,y_test))\n",
    "lR_rmse"
   ]
  },
  {
   "cell_type": "code",
   "execution_count": 40,
   "metadata": {},
   "outputs": [
    {
     "name": "stdout",
     "output_type": "stream",
     "text": [
      "Training Mean Absolute Error 214.56155124205225\n"
     ]
    }
   ],
   "source": [
    "#MAE\n",
    "# Predicting over the Train Set and calculating error\n",
    "train_predict = lR.predict(X_train)\n",
    "k = mae(train_predict, y_train)\n",
    "print('Training Mean Absolute Error', k )"
   ]
  },
  {
   "cell_type": "code",
   "execution_count": 41,
   "metadata": {},
   "outputs": [
    {
     "name": "stdout",
     "output_type": "stream",
     "text": [
      "Training Mean Absolute Error 214.07323119258842\n"
     ]
    }
   ],
   "source": [
    "# Predicting over the Train Set and calculating error\n",
    "test_predict = lR.predict(X_test)\n",
    "k = mae(test_predict, y_test)\n",
    "print('Training Mean Absolute Error', k )"
   ]
  },
  {
   "cell_type": "code",
   "execution_count": 42,
   "metadata": {},
   "outputs": [
    {
     "name": "stdout",
     "output_type": "stream",
     "text": [
      "Training Mean Square Error 123212.08224319686\n"
     ]
    }
   ],
   "source": [
    "#MSE\n",
    "train_predict = lR.predict(X_train)\n",
    "k = mse(train_predict, y_train)\n",
    "print('Training Mean Square Error', k )"
   ]
  },
  {
   "cell_type": "code",
   "execution_count": 43,
   "metadata": {},
   "outputs": [
    {
     "name": "stdout",
     "output_type": "stream",
     "text": [
      "Training Mean square Error 121407.73451197094\n"
     ]
    }
   ],
   "source": [
    "test_predict = lR.predict(X_test)\n",
    "k = mse(test_predict, y_test)\n",
    "print('Training Mean square Error', k )"
   ]
  },
  {
   "cell_type": "code",
   "execution_count": 44,
   "metadata": {},
   "outputs": [
    {
     "data": {
      "text/plain": [
       "0.5715308776016543"
      ]
     },
     "execution_count": 44,
     "metadata": {},
     "output_type": "execute_result"
    }
   ],
   "source": [
    "#R2\n",
    "lR_r2score = metrics.r2_score(lR_pred,y_test)\n",
    "lR_r2score"
   ]
  },
  {
   "cell_type": "code",
   "execution_count": 45,
   "metadata": {},
   "outputs": [
    {
     "data": {
      "text/plain": [
       "0.6977233397083135"
      ]
     },
     "execution_count": 45,
     "metadata": {},
     "output_type": "execute_result"
    }
   ],
   "source": [
    "#Train Score\n",
    "lR_train=lR.score(X_train,y_train)\n",
    "lR_train"
   ]
  },
  {
   "cell_type": "code",
   "execution_count": 46,
   "metadata": {},
   "outputs": [
    {
     "data": {
      "text/plain": [
       "0.7012414839316345"
      ]
     },
     "execution_count": 46,
     "metadata": {},
     "output_type": "execute_result"
    }
   ],
   "source": [
    "#Test Score\n",
    "lR_test=lR.score(X_test,y_test)\n",
    "lR_test"
   ]
  },
  {
   "cell_type": "code",
   "execution_count": 47,
   "metadata": {},
   "outputs": [
    {
     "data": {
      "text/plain": [
       "array([ 252.25560016,  -54.49649778, -288.39267705, -279.59723176,\n",
       "       -282.08689803, -280.26431529, -283.75756397, -284.98001731,\n",
       "          3.2079549 ,   75.90218495,   80.09381079,  172.79064728,\n",
       "        220.06163971,  195.15699613,   65.83792663,  -22.20590371,\n",
       "        -56.57550647, -133.68876195, -177.66402564, -168.08208674,\n",
       "        -80.81850842,    6.65794326,  189.33626326,   -8.06997675,\n",
       "        -59.67290384,   38.20278249,   71.89879196, -192.56071905,\n",
       "         14.7162843 ,   84.90509895,    7.06873855,  -22.0741585 ,\n",
       "        176.53569297,  205.5101701 ,  -54.10195773,  256.43106335,\n",
       "       -144.49467373,   64.57822253, -231.94662033])"
      ]
     },
     "execution_count": 47,
     "metadata": {},
     "output_type": "execute_result"
    }
   ],
   "source": [
    "lR.coef_"
   ]
  },
  {
   "cell_type": "code",
   "execution_count": 49,
   "metadata": {},
   "outputs": [
    {
     "data": {
      "text/plain": [
       "<AxesSubplot:title={'center':'Model Coefficients'}>"
      ]
     },
     "execution_count": 49,
     "metadata": {},
     "output_type": "execute_result"
    },
    {
     "data": {
      "image/png": "[encoded data removed]",
      "text/plain": [
       "<Figure size 432x288 with 1 Axes>"
      ]
     },
     "metadata": {
      "needs_background": "light"
     },
     "output_type": "display_data"
    }
   ],
   "source": [
    "coefficent = pd.DataFrame(lR.coef_,index=X_train.columns)\n",
    "coefficent.plot(kind='bar', title='Model Coefficients')"
   ]
  },
  {
   "cell_type": "code",
   "execution_count": 50,
   "metadata": {},
   "outputs": [
    {
     "data": {
      "text/html": [
       "<div>\n",
       "<style scoped>\n",
       "    .dataframe tbody tr th:only-of-type {\n",
       "        vertical-align: middle;\n",
       "    }\n",
       "\n",
       "    .dataframe tbody tr th {\n",
       "        vertical-align: top;\n",
       "    }\n",
       "\n",
       "    .dataframe thead th {\n",
       "        text-align: right;\n",
       "    }\n",
       "</style>\n",
       "<table border=\"1\" class=\"dataframe\">\n",
       "  <thead>\n",
       "    <tr style=\"text-align: right;\">\n",
       "      <th></th>\n",
       "      <th>fitted values</th>\n",
       "      <th>predicted values</th>\n",
       "      <th>residuals</th>\n",
       "    </tr>\n",
       "  </thead>\n",
       "  <tbody>\n",
       "    <tr>\n",
       "      <th>505078</th>\n",
       "      <td>509</td>\n",
       "      <td>548.621497</td>\n",
       "      <td>-39.621497</td>\n",
       "    </tr>\n",
       "    <tr>\n",
       "      <th>701477</th>\n",
       "      <td>462</td>\n",
       "      <td>510.141030</td>\n",
       "      <td>-48.141030</td>\n",
       "    </tr>\n",
       "    <tr>\n",
       "      <th>498579</th>\n",
       "      <td>1005</td>\n",
       "      <td>972.263683</td>\n",
       "      <td>32.736317</td>\n",
       "    </tr>\n",
       "    <tr>\n",
       "      <th>384199</th>\n",
       "      <td>1003</td>\n",
       "      <td>983.767892</td>\n",
       "      <td>19.232108</td>\n",
       "    </tr>\n",
       "    <tr>\n",
       "      <th>212033</th>\n",
       "      <td>593</td>\n",
       "      <td>535.799995</td>\n",
       "      <td>57.200005</td>\n",
       "    </tr>\n",
       "    <tr>\n",
       "      <th>724824</th>\n",
       "      <td>933</td>\n",
       "      <td>877.501923</td>\n",
       "      <td>55.498077</td>\n",
       "    </tr>\n",
       "    <tr>\n",
       "      <th>414554</th>\n",
       "      <td>357</td>\n",
       "      <td>413.618231</td>\n",
       "      <td>-56.618231</td>\n",
       "    </tr>\n",
       "    <tr>\n",
       "      <th>72441</th>\n",
       "      <td>604</td>\n",
       "      <td>743.445460</td>\n",
       "      <td>-139.445460</td>\n",
       "    </tr>\n",
       "    <tr>\n",
       "      <th>495804</th>\n",
       "      <td>951</td>\n",
       "      <td>966.082290</td>\n",
       "      <td>-15.082290</td>\n",
       "    </tr>\n",
       "    <tr>\n",
       "      <th>286048</th>\n",
       "      <td>871</td>\n",
       "      <td>902.945521</td>\n",
       "      <td>-31.945521</td>\n",
       "    </tr>\n",
       "  </tbody>\n",
       "</table>\n",
       "</div>"
      ],
      "text/plain": [
       "        fitted values  predicted values   residuals\n",
       "505078            509        548.621497  -39.621497\n",
       "701477            462        510.141030  -48.141030\n",
       "498579           1005        972.263683   32.736317\n",
       "384199           1003        983.767892   19.232108\n",
       "212033            593        535.799995   57.200005\n",
       "724824            933        877.501923   55.498077\n",
       "414554            357        413.618231  -56.618231\n",
       "72441             604        743.445460 -139.445460\n",
       "495804            951        966.082290  -15.082290\n",
       "286048            871        902.945521  -31.945521"
      ]
     },
     "execution_count": 50,
     "metadata": {},
     "output_type": "execute_result"
    }
   ],
   "source": [
    "# Arranging and calculating the Residuals\n",
    "residuals = pd.DataFrame({\n",
    "    'fitted values' : y_test,\n",
    "    'predicted values' : test_predict,\n",
    "})\n",
    "\n",
    "residuals['residuals'] = residuals['fitted values'] - residuals['predicted values']\n",
    "residuals.head(10)"
   ]
  },
  {
   "cell_type": "code",
   "execution_count": 51,
   "metadata": {},
   "outputs": [
    {
     "data": {
      "image/png": "[encoded data removed]",
      "text/plain": [
       "<Figure size 1200x720 with 1 Axes>"
      ]
     },
     "metadata": {},
     "output_type": "display_data"
    }
   ],
   "source": [
    "plt.figure(figsize=(10, 6), dpi=120, facecolor='w', edgecolor='b')\n",
    "plt.hist(residuals.residuals, bins = 150)\n",
    "plt.xlabel('Error')\n",
    "plt.ylabel('Frequency')\n",
    "plt.title('Distribution of Error Terms')\n",
    "plt.show()"
   ]
  },
  {
   "cell_type": "code",
   "execution_count": 52,
   "metadata": {},
   "outputs": [
    {
     "data": {
      "image/png": "[encoded data removed]",
      "text/plain": [
       "<Figure size 600x600 with 1 Axes>"
      ]
     },
     "metadata": {
      "needs_background": "light"
     },
     "output_type": "display_data"
    }
   ],
   "source": [
    "from statsmodels.graphics.gofplots import qqplot\n",
    "\n",
    "## Plotting the QQ plot\n",
    "fig, ax = plt.subplots(figsize=(5,5) , dpi = 120)\n",
    "qqplot(residuals.residuals, line = 's' , ax = ax)\n",
    "plt.ylabel('Residual Quantiles')\n",
    "plt.xlabel('Ideal Scaled Quantiles')\n",
    "plt.title('Checking distribution of Residual Errors')\n",
    "plt.show()"
   ]
  },
  {
   "cell_type": "code",
   "execution_count": 54,
   "metadata": {},
   "outputs": [
    {
     "data": {
      "text/plain": [
       "<matplotlib.legend.Legend at 0x7fb0e0b62520>"
      ]
     },
     "execution_count": 54,
     "metadata": {},
     "output_type": "execute_result"
    },
    {
     "data": {
      "image/png": "[encoded data removed]",
      "text/plain": [
       "<Figure size 1200x720 with 1 Axes>"
      ]
     },
     "metadata": {},
     "output_type": "display_data"
    }
   ],
   "source": [
    "plt.figure(figsize=(10, 6), dpi=120, facecolor='w', edgecolor='b')\n",
    "f = range(0,142922)\n",
    "k = [0 for i in range(0,142922)]\n",
    "plt.scatter( f, residuals['residuals'], label = 'residuals')\n",
    "plt.plot( f, k , color = 'red', label = 'regression line' )\n",
    "plt.xlabel('fitted points ')\n",
    "plt.ylabel('residuals')\n",
    "plt.title('Residual plot')\n",
    "plt.legend()"
   ]
  },
  {
   "cell_type": "markdown",
   "metadata": {},
   "source": [
    "Here the distribution of the residuals is Homoscedastic. So the assumption of Linear Regression holds true."
   ]
  },
  {
   "cell_type": "code",
   "execution_count": null,
   "metadata": {},
   "outputs": [],
   "source": []
  }
 ],
 "metadata": {
  "kernelspec": {
   "display_name": "Python 3",
   "language": "python",
   "name": "python3"
  },
  "language_info": {
   "codemirror_mode": {
    "name": "ipython",
    "version": 3
   },
   "file_extension": ".py",
   "mimetype": "text/x-python",
   "name": "python",
   "nbconvert_exporter": "python",
   "pygments_lexer": "ipython3",
   "version": "3.8.5"
  }
 },
 "nbformat": 4,
 "nbformat_minor": 4
}
